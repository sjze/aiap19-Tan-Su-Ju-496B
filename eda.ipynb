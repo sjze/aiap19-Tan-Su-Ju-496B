version https://git-lfs.github.com/spec/v1
oid sha256:429dea6c476c85785209abb83d0107a5ece63655456bf6616905c221f0086da3
size 2213419
